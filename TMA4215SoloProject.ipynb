{
 "cells": [
  {
   "cell_type": "markdown",
   "id": "b88f1450",
   "metadata": {},
   "source": [
    "#### <center>Candidate 10046</center>\n",
    "\n",
    "# <center> Numerical Mathematics Project 1</center>\n",
    "\n",
    "In this project we look at underdetermined linear systems and two methods of obtaining a solution.\\\n",
    "In **task 1** we want to find the minimum norm solution (if it exists) using the lagrange function, and then reformulate our initial solution using QR decomposition, comparing the two methods.\\\n",
    "In **task 2** we use Tikhonov regularization, finding the least squares solution of a underdetermined system with a small norm. The solution we obtain from this method is a tradeoff between something that solves the system in the best possible way (i.e. is a minimizer of the least squares problem), and has the smallest norm. \\\n",
    "In **task 3** we apply our solutions to a single-channel source separation problem, wanting to separate a combined image of a 0 and a 1, using handed out bases for the images of 0 and 1. I have chosen to look for the minimum norm solution in this task.\n",
    "\n",
    "## <center> Task 1 </center>\n",
    "$\\DeclareMathOperator{\\rank}{rank}$ $\\DeclareMathOperator{\\argmin}{arg min}$\n",
    "## a)\n",
    "\n",
    "For linear systems of the form $A\\mathbf x =\\mathbf y, A\\in\\mathbb R^{2\\times 3}, x\\in\\mathbb R^3, y\\in\\mathbb R^2$, \\\n",
    "we have no solutions if we let $\\mathbf y=(3\\quad 5)^T$ and $A = \n",
    "\\begin{bmatrix} 1 & 2 & 4 \\\\ 2 & 4 & 8 \\end{bmatrix}$\n",
    "\n",
    ", and infinitely many solutions if we let $\\mathbf y=(1\\quad 1)^T$ and $A =  \n",
    "\\begin{bmatrix} 1 & 0 & 1 \\\\ 0 & 1 & 1 \\end{bmatrix}$\n"
   ]
  },
  {
   "cell_type": "code",
   "execution_count": 1,
   "id": "b1aa79e5",
   "metadata": {},
   "outputs": [],
   "source": [
    "# Importing code\n",
    "import numpy as np\n",
    "import scipy as sp\n",
    "from numpy import linalg\n",
    "import matplotlib.pyplot as plt\n",
    "newparams = {'figure.figsize': (8.0, 4.0), 'axes.grid': True,\n",
    "             'lines.markersize': 8, 'lines.linewidth': 2,\n",
    "             'font.size': 14}\n",
    "plt.rcParams.update(newparams)\n",
    "\n",
    "#%pip install numba\n",
    "from numba import jit\n",
    "from numba.core.errors import NumbaDeprecationWarning, NumbaPendingDeprecationWarning, NumbaPerformanceWarning\n",
    "import warnings\n",
    "\n",
    "# Remove annoying deprecation warnings\n",
    "warnings.simplefilter('ignore', category=NumbaDeprecationWarning)\n",
    "warnings.simplefilter('ignore', category=NumbaPendingDeprecationWarning)\n",
    "\"\"\"\n",
    "This is to remove a warning about the @ operator being more efficient for contiguous arrays,\n",
    "which we do not have for some of our matrix/vector slices\n",
    "\"\"\"\n",
    "warnings.simplefilter('ignore', category=NumbaPerformanceWarning)"
   ]
  },
  {
   "cell_type": "code",
   "execution_count": 2,
   "id": "bf1bce6e",
   "metadata": {},
   "outputs": [],
   "source": [
    "AInf = np.array([[1, 0, 1],\n",
    "                 [0, 1, 1]])\n",
    "yInf = np.array([1,\n",
    "                 1])\n",
    "ANan = np.array([[1,2,4],\n",
    "                 [2,4,8]])\n",
    "yNan = np.array([3,\n",
    "                 5])"
   ]
  },
  {
   "cell_type": "markdown",
   "id": "e1675bae",
   "metadata": {},
   "source": [
    "### b)\n",
    "For $A\\in\\mathbb R^{m\\times n}, m < n$, we have: \\\n",
    "$\\left(A^TA\\right)^T = A^TA^{T^T} = A^TA$, and likewise we get that for $AA^T$ \\\n",
    "$\\left(AA^T\\right)^T = A^{T^T}A^T = AA^T \\implies$ $A^TA$ and $AA^T$ are symmetric. \\\n",
    "\\\n",
    "From the definition we get that a matrix $B$ is positive semi-definite if $\\mathbf x^TB\\mathbf x \\geq 0 \\quad\\forall\\quad\\mathbf x \\neq 0$ \\\n",
    "$\\mathbf x^TA^TA\\mathbf x = \\left(A\\mathbf x\\right)^TA\\mathbf x = \\|A\\mathbf x\\|^2\\geq 0$ \\\n",
    "$\\mathbf x^TAA^T\\mathbf x = \\left(A^T\\mathbf x\\right)^TA^T\\mathbf x = \\|A^T\\mathbf x\\|^2 \\geq 0 $ \\\n",
    "So $A^TA$ and $AA^T$ are both symmetric positive semi-definite. \\\n",
    "\\\n",
    "If $\\rank(A) = m$, then $\\exists\\enspace x\\in\\mathbb R^n:A\\mathbf x=\\vec 0\\implies\\exists\\enspace\\mathbf x\\in\\mathbb R^n:A^TA\\mathbf x=0\\implies A^TA$ is not invertible. \\\n",
    "For $AA^T$, as it has **m** independend columns any linear combination of them is nonzero, which means that $\\forall\\enspace\\mathbf x\\neq\\vec 0\\enspace A^T\\mathbf x\\neq 0\\implies\\|A^T\\mathbf x\\|>\\vec 0\\implies AA^T\\mathbf x\\neq\\vec 0,\\enspace\\forall\\enspace\\mathbf x\\in\\mathbb R^m\\neq\\vec 0$ and therefore, unlike $A^TA$, $AA^T$ is invertible by the previous calculations of their norms."
   ]
  },
  {
   "cell_type": "markdown",
   "id": "73937fd6",
   "metadata": {},
   "source": [
    "### c)\n",
    "$\\mathbf x_{min} = \\argmin\\enspace\\mathbf x^T\\mathbf x : A\\mathbf x = \\mathbf y$ (1) \\\n",
    "The Lagrange function corresponding to this problem is $\\mathcal L(\\mathbf x,\\mathbf\\lambda) = \\mathbf x^T\\mathbf x + \\mathbf\\lambda^T\\left(A\\mathbf x - \\mathbf y\\right)$ (2) \\\n",
    "Computing the gradients, we get: \\\n",
    "$\\nabla_{\\mathbf x}\\mathcal L(\\mathbf x,\\mathbf\\lambda)_j = \\frac{\\partial}{\\partial x_j}\\sum_k x_k ^2 + \\frac{\\partial}{\\partial x_j}\\sum_i\\lambda_i\\sum_k a_{ik}x_k - \\frac{\\partial}{\\partial x_j}\\sum_k\\lambda_k y_k = 2x_j + \\sum_i\\lambda_i a_{ij}\\newline\\implies\\nabla_{\\mathbf x}\\mathcal L(\\mathbf x,\\mathbf\\lambda) = 2\\mathbf x + A^T\\mathbf\\lambda$ \\\n",
    "$\\nabla_{\\mathbf\\lambda}\\mathcal L(\\mathbf x,\\mathbf\\lambda) = \\frac\\partial{\\partial\\lambda_j}\\sum_kx_k^2 + \\frac\\partial{\\partial\\lambda_j}\\sum_i\\lambda_i\\sum_k a_{ik}x_k - \\frac\\partial{\\partial\\lambda_j}\\sum_k\\lambda_k y_k = \\sum_k a_{jk}x_k - y_j\\newline\\implies\\nabla_\\mathbf\\lambda\\mathcal L(\\mathbf x,\\mathbf\\lambda) = A\\mathbf x - \\mathbf y = \\vec0$ \\\n",
    "Setting both gradients to zero, by (3), we set both gradients equal to each other to find lambda: \\\n",
    "$\\begin{align}\n",
    "\\qquad\\qquad\\qquad\\qquad\\qquad\\qquad\\qquad\\qquad\\qquad\\nabla_{\\mathbf x}\\mathcal L(\\mathbf x,\\mathbf\\lambda) &= \\nabla_{\\mathbf\\lambda}\\mathcal L(\\mathbf x,\\mathbf\\lambda) \\\\\n",
    " 2\\mathbf x + A^T\\mathbf\\lambda &= \\vec0 \\\\\n",
    " A^T\\mathbf\\lambda &= - 2\\mathbf x \\\\\n",
    " AA^T\\mathbf\\lambda &= - 2A\\mathbf x \\\\\n",
    " \\mathbf\\lambda &= - 2\\left(AA^T\\right)^{-1}A\\mathbf x \\\\\n",
    " \\mathbf\\lambda &= -2\\left(AA^T\\right)^{-1}\\mathbf y \\\\\n",
    "\\end{align}$\n",
    "\n",
    "From our condition that $A\\mathbf x = \\mathbf y$, and our previous proof that $AA^T$ is invertible if $\\rank(A) = m$, i.e. $A$ is of full rank, which is necessary to get a unique $\\mathbf y$. \\\n",
    "Inserting this into $\\nabla_{\\mathbf x}\\mathcal L(\\mathbf x,\\mathbf\\lambda)$, we get: \\\n",
    "$\\begin{align}\n",
    "\\qquad\\qquad\\qquad\\qquad\\qquad\\qquad\\qquad\\qquad\\qquad\\nabla_{\\mathbf x}\\mathcal L(\\mathbf x,\\mathbf\\lambda) &= 0 \\\\\n",
    " 2\\mathbf x + A^T\\lambda &= 0 \\\\\n",
    " 2\\mathbf x - 2A^T\\left(AA^T\\right)^{-1}\\mathbf y &=0 \\\\\n",
    " \\textbf x_{min} &= A^T\\left(AA^T\\right)^{-1}\\mathbf y\n",
    "\\end{align}$"
   ]
  },
  {
   "cell_type": "markdown",
   "id": "f3cd2ea4",
   "metadata": {},
   "source": [
    "### d)\n",
    "As $A^T = QR$, $R$ is invertible (being upper triangular), and $Q$ is orthogonal: \\\n",
    "$\\begin{align}\n",
    "\\qquad\\qquad\\qquad\\qquad\\qquad\\qquad\\qquad\\qquad\\qquad\\quad\\textbf x_{min} &= A^T\\left(AA^T\\right)^{-1}\\mathbf y \\\\\n",
    " &= QR\\left(\\left(QR\\right)^TQR\\right)^{-1}\\mathbf y \\\\\n",
    " &= QR\\left(R^TQ^TQR\\right)^{-1}\\mathbf y \\\\\n",
    " &= QR\\left(R^TR\\right)^{-1}\\mathbf y \\\\\n",
    " &= QRR^{-1}R^{-T}\\mathbf y \\\\\n",
    " &= QR^{-T}\\mathbf y\n",
    "\\end{align}$"
   ]
  },
  {
   "cell_type": "code",
   "execution_count": 3,
   "id": "f9445f11",
   "metadata": {},
   "outputs": [],
   "source": [
    "# Calculating the reduced QR decomposition by Modified Gram-Schmidt\n",
    "@jit(nopython=True)\n",
    "def MGS_QR(A):\n",
    "    m,n = np.shape(A)\n",
    "    # Here i am using Q.T to optimize the dot products (contiguous arrays) so the rows of Q here are in fact columns\n",
    "    Q = np.empty((n,m))\n",
    "    R = np.zeros((n, n))\n",
    "    for j in range(n):\n",
    "        Q[j,:] = A[:,j]\n",
    "        for i in range(j):\n",
    "            # Calculating R and subtracting the projection of column i on column j from column j\n",
    "            R[i,j] = np.dot(Q[i,:].T,Q[j,:])\n",
    "            Q[j,:] -= R[i,j]*Q[i,:]\n",
    "\n",
    "        R[j,j] = linalg.norm(Q[j,:])\n",
    "        Q[j,:] /= R[j,j]\n",
    "    return Q.T, R"
   ]
  },
  {
   "cell_type": "markdown",
   "id": "5ae80989",
   "metadata": {},
   "source": [
    "### e)\n",
    "We know that $\\textbf x_{min} = QR^{-T}\\textbf y$. \\\n",
    "Letting $\\textbf z = R^{-T}\\textbf y$, we get that $\\textbf x_{min} = Q\\textbf z$, and that $R^T\\textbf z = \\textbf y$,\\\n",
    "where we can find $\\textbf z$ by forward substitution (as $R^T$ is lower triangular), and then $\\textbf x_{min}$ by calculating $Q\\textbf z$"
   ]
  },
  {
   "cell_type": "code",
   "execution_count": 4,
   "id": "d391d328",
   "metadata": {},
   "outputs": [],
   "source": [
    "# Finding x_min given y and QR decomposition of A^T using forward substitution\n",
    "@jit(nopython=True)\n",
    "def QR_solver(Q, R, y):\n",
    "    RT = R.T\n",
    "    n = RT.shape[0]\n",
    "    z = np.zeros(n)\n",
    "    for i in range(n):\n",
    "        z[i]=(y[i]-np.dot(RT[i,:i],z[:i]))/RT[i,i]\n",
    "    return np.dot(Q,z)"
   ]
  },
  {
   "cell_type": "markdown",
   "id": "14e1c4ea",
   "metadata": {},
   "source": [
    "Testing this on the examples given in a), we get"
   ]
  },
  {
   "cell_type": "code",
   "execution_count": 5,
   "id": "2b609e18",
   "metadata": {},
   "outputs": [
    {
     "name": "stdout",
     "output_type": "stream",
     "text": [
      "Minimum norm solution of Ainf x = yInf and solving back to show we indeed get yInf\n",
      "[0.33333333 0.33333333 0.66666667]\n",
      "[1. 1.] \n",
      "\n",
      "Attempt at solving the system with no solutions using the minimum norm approach and QR decomposition\n",
      "[1.07228563e+14 2.14457125e+14 4.28914250e+14]\n",
      "[2.25179981e+15 4.50359963e+15]\n"
     ]
    }
   ],
   "source": [
    "QInf,RInf = MGS_QR(AInf.T)\n",
    "xInf = QR_solver(QInf,RInf,yInf.T)\n",
    "print('Minimum norm solution of Ainf x = yInf and solving back to show we indeed get yInf')\n",
    "print(xInf)\n",
    "print(AInf@xInf,'\\n')\n",
    "QNan,RNan = MGS_QR(ANan.T)\n",
    "xNan = QR_solver(QNan,RNan,yNan.T)\n",
    "print('Attempt at solving the system with no solutions using the minimum norm approach and QR decomposition')\n",
    "print(xNan)\n",
    "print(ANan@xNan)"
   ]
  },
  {
   "cell_type": "markdown",
   "id": "bc6bbc0b",
   "metadata": {},
   "source": [
    "### f)\n",
    "Generating matrix $A \\in \\mathbb{R}^{m \\times n}$"
   ]
  },
  {
   "cell_type": "code",
   "execution_count": 6,
   "id": "02adad95",
   "metadata": {},
   "outputs": [],
   "source": [
    "def generate_A(m,n):\n",
    "    \"\"\"\n",
    "    Generates m times n with correlated columns.\n",
    "    Input:\n",
    "        m: int, first dimension of A\n",
    "        n: int, second dimension of A\n",
    "    output:\n",
    "        A: (m,n) array\n",
    "    \"\"\"\n",
    "\n",
    "    cov_eigvecs = np.random.uniform(-1.0,1.0,(m,m))\n",
    "    cov = cov_eigvecs.T @ cov_eigvecs\n",
    "    v = np.sqrt(np.diag(cov))\n",
    "    outer_v = np.outer(v, v)\n",
    "    corr = cov / outer_v\n",
    "    corr[cov == 0] = 0\n",
    "    chol = sp.linalg.cholesky(corr, lower=True) \n",
    "    A = np.random.normal(0, 1.0,(m,n))\n",
    "    A = np.dot(chol, A)\n",
    "    return A"
   ]
  },
  {
   "cell_type": "code",
   "execution_count": 7,
   "id": "28a3017d",
   "metadata": {},
   "outputs": [
    {
     "name": "stdout",
     "output_type": "stream",
     "text": [
      "(8096, 100)\n",
      "(2048, 100)\n"
     ]
    }
   ],
   "source": [
    "m = 2048\n",
    "n = 8096\n",
    "A = generate_A(m,n)\n",
    "\n",
    "N = 100 # Number of test data we want to generate\n",
    "\n",
    "# Generate solutions X columnwise, X[:,i] to access i-th vector\n",
    "X = np.random.normal(0.0,1.0,(A.shape[1],N))\n",
    "\n",
    "# Generate left hand sides Y columnwise Y[:,i] to access lhs\n",
    "Y = np.dot(A,X)\n",
    "\n",
    "# Doublecheck shapes\n",
    "print(X.shape) # Expect (n,N)\n",
    "print(Y.shape) # Expect (m,N)"
   ]
  },
  {
   "cell_type": "markdown",
   "id": "9db5c38b",
   "metadata": {},
   "source": [
    "First we time the precalculations of the methods involving np.linalg.solve and the QR method (method 1 and 2) independently, and then the calculations of $\\mathbf x_{min}$ for all generated $\\mathbf y$. \\\n",
    "Thereafter we will (with less accuracy) time the total amount spent on both precalculation and finding $\\mathbf x_{min}$ for all generated $\\mathbf y$."
   ]
  },
  {
   "cell_type": "code",
   "execution_count": 8,
   "id": "8fa8e926",
   "metadata": {},
   "outputs": [
    {
     "name": "stdout",
     "output_type": "stream",
     "text": [
      "908 ms ± 72.5 ms per loop (mean ± std. dev. of 3 runs, 1 loop each)\n"
     ]
    }
   ],
   "source": [
    "%timeit -r 3 -n 1 AAT = np.dot(A, A.T)"
   ]
  },
  {
   "cell_type": "code",
   "execution_count": 9,
   "id": "7f9b6898",
   "metadata": {},
   "outputs": [],
   "source": [
    "AAT = np.dot(A, A.T)"
   ]
  },
  {
   "cell_type": "code",
   "execution_count": 10,
   "id": "67256970",
   "metadata": {},
   "outputs": [
    {
     "name": "stdout",
     "output_type": "stream",
     "text": [
      "25.3 s ± 268 ms per loop (mean ± std. dev. of 3 runs, 1 loop each)\n"
     ]
    }
   ],
   "source": [
    "%%timeit -r 3 -n 1\n",
    "for i in range(N):\n",
    "    z = linalg.solve(AAT,Y[:,i])\n",
    "    x_sol = np.dot(A.T,z)"
   ]
  },
  {
   "cell_type": "code",
   "execution_count": 11,
   "id": "4cc2eff2",
   "metadata": {},
   "outputs": [
    {
     "name": "stdout",
     "output_type": "stream",
     "text": [
      "58.7 s ± 3.11 s per loop (mean ± std. dev. of 3 runs, 1 loop each)\n"
     ]
    }
   ],
   "source": [
    "%timeit -r 3 -n 1 Q,R = MGS_QR(A.T)"
   ]
  },
  {
   "cell_type": "code",
   "execution_count": 12,
   "id": "27208e22",
   "metadata": {},
   "outputs": [],
   "source": [
    "Q,R = MGS_QR(A.T)"
   ]
  },
  {
   "cell_type": "code",
   "execution_count": 13,
   "id": "cd2751ba",
   "metadata": {},
   "outputs": [
    {
     "name": "stdout",
     "output_type": "stream",
     "text": [
      "3.7 s ± 137 ms per loop (mean ± std. dev. of 3 runs, 1 loop each)\n"
     ]
    }
   ],
   "source": [
    "%%timeit -r 3 -n 1\n",
    "for i in range(N):\n",
    "    x_qr = QR_solver(Q,R,Y[:,i])"
   ]
  },
  {
   "cell_type": "markdown",
   "id": "f6f83d0b",
   "metadata": {},
   "source": [
    "From the timed results we find that calculating $AA^T$ is about 60 times faster than calculating the reduced QR decomposition, while finding $\\mathbf x_{min}$ is almost 20 thousand times faster when we have calculated the QR decomposition than when we have calculated $AA^T$. Using the numbers obtained here we can roughly estimate that both methods take the same amount of time when we do the precalculations once and then find $\\mathbf x_{min}$ for around 220 $\\mathbf y$. If we need to solve the system more times than that the QR decomposition would be more efficient, and otherwise the other method would be better. This is of course for $A$ of dimension $2048\\times8096$ and for the current level of optimization of these methods as the QR decomposition implemented here is not as optimized as the functions in the numpy library.\n",
    "\n",
    "Now we are comparing both methods for the given case, i.e. we can precalculate $AA^T$ and the QR decomposition and then we want to solve 200 sets of equations using $A$"
   ]
  },
  {
   "cell_type": "code",
   "execution_count": 14,
   "id": "5157a016",
   "metadata": {},
   "outputs": [
    {
     "name": "stdout",
     "output_type": "stream",
     "text": [
      "26.5 s ± 615 ms per loop (mean ± std. dev. of 3 runs, 1 loop each)\n"
     ]
    }
   ],
   "source": [
    "%%timeit -r 3 -n 1\n",
    "AAT = np.dot(A, A.T)\n",
    "for i in range(N):\n",
    "    z = linalg.solve(AAT,Y[:,i])\n",
    "    x_sol = np.dot(A.T,z)"
   ]
  },
  {
   "cell_type": "code",
   "execution_count": 15,
   "id": "608cfa91",
   "metadata": {},
   "outputs": [
    {
     "name": "stdout",
     "output_type": "stream",
     "text": [
      "1min 2s ± 5.59 s per loop (mean ± std. dev. of 3 runs, 1 loop each)\n"
     ]
    }
   ],
   "source": [
    "%%timeit -r 3 -n 1\n",
    "Q,R = MGS_QR(A.T)\n",
    "for i in range(N):\n",
    "    x_qr = QR_solver(Q,R,Y[:,i])"
   ]
  },
  {
   "cell_type": "markdown",
   "id": "43306b3e",
   "metadata": {},
   "source": [
    "From this we see that method 1 using np.linalg.solve is about 2.3 times as fast in the given case, as calculating the QR decomposition is expensive, and we do not solve enough systems for us to save time using the QR decomposition."
   ]
  },
  {
   "cell_type": "code",
   "execution_count": 16,
   "id": "e71f2477",
   "metadata": {},
   "outputs": [
    {
     "name": "stdout",
     "output_type": "stream",
     "text": [
      "77.88856027141088 77.88856027141088 4.767891564552704e-11\n"
     ]
    }
   ],
   "source": [
    "avg_qr_acc = 0\n",
    "avg_np_acc = 0\n",
    "avg_np_qr_diff = 0\n",
    "\n",
    "for i in range(N):\n",
    "    x_qr = QR_solver(Q,R,Y[:,i])\n",
    "    x_np = np.dot(A.T,np.linalg.solve(AAT,Y[:,i]))\n",
    "    avg_qr_acc += linalg.norm(X[:,i]-x_qr)\n",
    "    avg_np_acc += linalg.norm(X[:,i]-x_np)\n",
    "    avg_np_qr_diff  += linalg.norm(x_np-x_qr)\n",
    "    \n",
    "avg_qr_acc /= N\n",
    "avg_np_acc /= N\n",
    "avg_np_qr_diff /= N\n",
    "print(avg_qr_acc, avg_np_acc, avg_np_qr_diff)"
   ]
  },
  {
   "cell_type": "markdown",
   "id": "5a095331",
   "metadata": {},
   "source": [
    "Here $\\|\\mathbf x_{min} - \\mathbf x_{true}\\| = 77.97$ on average. The solutions we find are identical independent of the method (which is good because they are unique as $\\rank(A)=m$), but they are not the same $\\mathbf x$ as the one we used to find our $\\mathbf y$ because we originally just randomly generated $\\mathbf x$, not caring about minimum norm. This means that we have no way of knowing how the $\\mathbf x$ that generated any given $\\mathbf y$ looks like and therefore we are unable to recover our solutions. We only know that $x_{true}\\in D\\subset\\mathbb R^{m\\times n}$ for some subset $D$ which is a linear combination of the columns of $A$."
   ]
  },
  {
   "cell_type": "markdown",
   "id": "4efb6da7",
   "metadata": {},
   "source": [
    "## <center> Task 2 </center>\n",
    "We now want to solve the same kind of underdetermined system using Tikhonov regularization (a.k.a. ridge regression).\n",
    "### a)\n",
    "Specifically, we want to find $\\mathbf x_r = \\argmin\\|A\\mathbf x -\\mathbf y\\|^2 + \\mu\\|\\mathbf x\\|^2 = \\argmin T(\\mathbf x),\\enspace\\mathbf x\\in\\mathbb R^n$.\n",
    "\n",
    "Computing the gradient we get that: \\\n",
    "$\\begin{align}\n",
    "\\nabla_\\mathbf{x}T(\\mathbf x_r)_j &= \\frac\\partial{\\partial\\mathbf{x}_j}\\left(\\sum_i\\left(\\sum_ka_{ik}\\mathbf{x}_k-\\mathbf{y}_i\\right)^2+\\mu\\sum_k\\mathbf{x}_k^2\\right) \\\\\n",
    "&= \\frac\\partial{\\partial\\mathbf{x}_j}\\left(\\sum_i\\left(\\left(\\sum_ka_{ik}\\mathbf{x}_k\\right)^2+\\mathbf{y}_i^2-2\\mathbf{y}_i\\sum_ka_{ik}\\mathbf{x}_k\\right)+\\mu\\sum_k\\mathbf{x}_k^2\\right) \\\\\n",
    "&= 2\\left(\\sum_i\\sum_ka_{ik}\\mathbf{x}_ka_{ij}\\right)-2\\left(\\sum_i\\mathbf{y}_ia_{ij}\\right)+2\\mu\\mathbf{x}_j \\\\\n",
    "&= 2\\left(\\sum_ia_{ji}^T\\sum_ka_{ik}\\mathbf{x}_k\\right)-2\\left(\\sum_ia_{ji}^T\\mathbf{y}_i\\right)+2\\mu\\mathbf{x}_j\n",
    "\\end{align}$ \\\n",
    "$\\implies\\nabla_\\mathbf{x}T(\\mathbf{x}_r) = 2A^TA\\mathbf{x}_r-2A^T\\mathbf y + 2\\mu\\mathbf{x}_r = 2\\left(A^TA+\\mu I\\right)\\mathbf{x}_r-2A^T\\mathbf y$\n",
    "As a solution $\\mathbf x_{r}$ satisfies $\\nabla_{\\mathbf x}T(\\mathbf x_r) = 0$, we get:\\\n",
    "$\\left(A^TA+\\mu I\\right)\\mathbf{x}_r=A^T\\mathbf y$\n",
    "\n",
    "In task 1 we have shown that $A^TA$ is positive semi-definite as $\\mathbf{x}^TA^TA\\mathbf{x}=\\|A\\mathbf x\\|^2\\geq0$. \\\n",
    "By the definition of positive semi-definite, \\\n",
    "$\\mathbf{x}^T\\left(A^TA+\\mu I\\right)\\mathbf{x} = \\mathbf{x}^TA^TA\\mathbf{x}+\\mathbf{x}^T\\mu I\\mathbf{x} = \\|A\\mathbf x\\|^2+\\mu\\|\\mathbf x\\|^2>0\\enspace\\forall\\enspace\\mathbf{x}\\neq\\vec{0}$ by the properties of the l2-norm and as $\\mu\\geq0$. \\\n",
    "This gives us that $\\left(A^TA+\\mu I\\right)$ is positive definite, and as we previously have shown that $A^TA$ is symmetric and we only add a constant along the diagonal it is also SPD and therefore invertible."
   ]
  },
  {
   "cell_type": "markdown",
   "id": "09dd8da8",
   "metadata": {},
   "source": [
    "### b)\n",
    "Using the SVD and the hint in the task description, we get that \\\n",
    "$\\left(A^TA+\\mu I\\right) = V\\Sigma U^TU\\Sigma V^T + \\mu VV^T = V\\Sigma^2V^T + V\\mu IV^T = V\\left(\\Sigma^2+\\mu I\\right)V^T=VD_0V^T$ \\\n",
    "As $\\left(A^TA+\\mu I\\right)$ is invertible, $\\mathbf{x}_r=\\left(A^TA+\\mu I\\right)^{-1}A^T\\mathbf y$. \\\n",
    "$\\mathbf{x}_r=\\left(VD_0V^T\\right)^{-1}V\\Sigma U^T\\mathbf y =V^{-T}D_0^{-1}V^{-1}V\\Sigma U^T\\mathbf y=VD_0^{-1}\\Sigma U^T\\mathbf y = VDU^T\\mathbf y$, where $D = \\text{diag}\\left(\\frac{\\Sigma_{kk}}{\\Sigma_{kk}^2+\\mu}\\right)$, $k= 1,\\ldots,m$\n",
    "\n",
    "\n",
    "### c)"
   ]
  },
  {
   "cell_type": "code",
   "execution_count": 17,
   "id": "84691336",
   "metadata": {},
   "outputs": [],
   "source": [
    "@jit(nopython=True)\n",
    "def Tikhonov_solveSVD(U,S,Vt,mu,y):\n",
    "    \"\"\"\n",
    "    Solves the Tikhonov regularization for a linear regularization parameter mu.\n",
    "    Takes in the SVD of A and the parameter mu and returns the vector VDUt,\n",
    "    which can be multiplied with y to find x_r as described earlier.\n",
    "    The singular values S are taken in as a vector.\n",
    "    \"\"\"\n",
    "    m = np.shape(U)[0]\n",
    "    D = U.T.copy()\n",
    "    D = D@y\n",
    "    for k in range(m):\n",
    "        D[k] *= S[k]/(S[k]*S[k]+mu)\n",
    "\n",
    "    return Vt.T@D"
   ]
  },
  {
   "cell_type": "markdown",
   "id": "cc44d0ec",
   "metadata": {},
   "source": [
    "### d)\n",
    "Now we will solve a selected underdetermined system using the created framework (i.e. $A$, $\\mathbf x$, $\\mathbf x$) using Tikhonov regularization for various values of the regularization parameter $\\mu$. First we select a system and create an array of values of $\\mu$ to solve the system with. First we are timing how long it takes to solve the system using our SVD approach to the Tikhonov regularization."
   ]
  },
  {
   "cell_type": "code",
   "execution_count": 18,
   "id": "95a32f95",
   "metadata": {},
   "outputs": [],
   "source": [
    "mu_list = np.logspace(6,-6,num = 100)\n",
    "errors_svd = np.zeros(100,dtype='f8')\n",
    "x = X[:,69]\n",
    "y = Y[:,69]"
   ]
  },
  {
   "cell_type": "code",
   "execution_count": 19,
   "id": "8c871aa7",
   "metadata": {},
   "outputs": [
    {
     "name": "stdout",
     "output_type": "stream",
     "text": [
      "47.2 s ± 0 ns per loop (mean ± std. dev. of 1 run, 1 loop each)\n"
     ]
    }
   ],
   "source": [
    "%%timeit -r 1 -n 1\n",
    "U,S,Vt = np.linalg.svd(A,full_matrices = False)\n",
    "for i in range(100):\n",
    "    x_svd = Tikhonov_solveSVD(U,S,Vt,mu_list[i],y)\n",
    "    errors_svd[i] = linalg.norm(x-x_svd)"
   ]
  },
  {
   "cell_type": "markdown",
   "id": "fe9e7922",
   "metadata": {},
   "source": [
    "Now we want to use the more general approach np.linalg.solve, precalculating $A^TA$ and $A^T\\mathbf y$, and time this."
   ]
  },
  {
   "cell_type": "code",
   "execution_count": 20,
   "id": "c425437c",
   "metadata": {},
   "outputs": [],
   "source": [
    "mu_list_np = np.logspace(6,-6,num = 10)\n",
    "errors_np = np.zeros(10,dtype='f8')"
   ]
  },
  {
   "cell_type": "code",
   "execution_count": 21,
   "id": "74f6caf4",
   "metadata": {},
   "outputs": [
    {
     "name": "stdout",
     "output_type": "stream",
     "text": [
      "1min 48s ± 0 ns per loop (mean ± std. dev. of 1 run, 1 loop each)\n"
     ]
    }
   ],
   "source": [
    "%%timeit -r 1 -n 1\n",
    "ATA = A.T@A\n",
    "b = A.T@y\n",
    "for i in range(10):\n",
    "    x_r_np = linalg.solve((ATA+mu_list_np[i]*np.identity(n)),b)\n",
    "    errors_np[i] = linalg.norm(x_r_np-x)"
   ]
  },
  {
   "cell_type": "markdown",
   "id": "9000c717",
   "metadata": {},
   "source": [
    "Plotting the difference between the solutions obtained with our two approaches, together with $\\mathbf x_{min}$ obtained using the same methods as in task 1"
   ]
  },
  {
   "cell_type": "code",
   "execution_count": 22,
   "id": "256e2a94",
   "metadata": {},
   "outputs": [
    {
     "data": {
      "image/png": "[encoded data removed]",
      "text/plain": [
       "<Figure size 576x288 with 1 Axes>"
      ]
     },
     "metadata": {
      "needs_background": "light"
     },
     "output_type": "display_data"
    }
   ],
   "source": [
    "x_min_error_repeat = np.repeat(linalg.norm(x-QR_solver(Q,R,y)),10)\n",
    "plt.plot(mu_list, errors_svd, label = \"SVD, first approach\")\n",
    "plt.plot(mu_list_np, errors_np, label = \"numpy, second approach\")\n",
    "plt.plot(mu_list_np, x_min_error_repeat, label = \"minimum norm solution, reference\")\n",
    "plt.ylabel(\"error in μ\")\n",
    "plt.xlabel(\"μ\")\n",
    "plt.xscale(\"log\")\n",
    "plt.legend(loc=2)\n",
    "plt.show()"
   ]
  },
  {
   "cell_type": "markdown",
   "id": "9cf22d60",
   "metadata": {},
   "source": [
    "We see from the plot that small mu (order $10^{1}$ and smaller) give the solutions closest to $\\mathbf x_{true}$ and that $\\|\\mathbf x_r(\\mu)-\\mathbf x_{true}\\|$ is the same regardless of whether $\\mathbf x_r(\\mu)$ was obtained using the SVD approach or the np.linalg.solve approach, which is desired as $\\mathbf x_r(\\mu)$ is supposed to be unique for a given $\\mu$.\n",
    "From the plot we also see that $\\mathbf x_{min}$ actually is a minimizer to $\\|\\mathbf x_r(\\mu)-\\mathbf x_{true}\\|$, which will always be the case if we actually have a solution to our system as the Tikhonov regularization tries to find a medium between a vector that is as close as possible to a solution and a vector with smallest possible norm."
   ]
  },
  {
   "cell_type": "markdown",
   "id": "7a95d9db",
   "metadata": {},
   "source": [
    "## <center> Task 3 </center>\n",
    "We now want to do some single channel source separation on images that are a mix of a set of images depicting zeros and another set of images depicting ones. To do this we have been handed out two sets of basis vectors (two matrices), one for each set of images. We want to separate the two images from our blended image by projecting the image onto our two bases using a projection matrix $B_i = I - W_iW_i^T$ for both of our bases $i=0, i=1 $.\n",
    "\n",
    "### a)\n",
    "For this $B$, and knowing that $W$ has pairwise orthogonal columns, we want to show that it is in fact a projection matrix and that it is symmetric positive semi-definite. \\\n",
    "$B$ is a projection matrix: \\\n",
    "$\\begin{align}\n",
    "B^2 &= \\left(I-WW^T\\right)\\left(I-WW^T\\right) \\\\\n",
    "    &= I - 2WW^T + WW^TWW^T \\\\\n",
    "    &= I - 2WW^T + WW^T \\\\\n",
    "    &= I - WW^T \\\\\n",
    "    &= B\n",
    "\\end{align}$ \\\n",
    "Here $W^TW$ cancels because $W$ has pairwise orthogonal columns.\n",
    "$B$ is symmetric: \\\n",
    "$\\begin{align}\n",
    "B^T &= \\left(I-WW^T\\right)^T \\\\\n",
    "    &= I - \\left(WW^T\\right)^T \\\\\n",
    "    &= I - \\left(W^T\\right)^TW^T \\\\\n",
    "    &= I - WW^T \\\\\n",
    "    &= B\n",
    "\\end{align}$ \\\n",
    "$B$ is positive semi-definite: \\\n",
    "$B$ is positive semi definite if $\\mathbf x^TB\\mathbf x\\geq0$ \\\n",
    "$\\mathbf x^TB\\mathbf x = \\mathbf x^TBB\\mathbf x = \\left(B\\mathbf x\\right)^TB\\mathbf x = \\|B\\mathbf x\\|^2 \\geq 0$, \\\n",
    "as $B^2=B$ and $B^T=B$"
   ]
  },
  {
   "cell_type": "markdown",
   "id": "24e39420",
   "metadata": {},
   "source": [
    "### b)\n",
    "#### 1)\n",
    "We want to find $\\argmin\\enspace\\frac12\\mathbf{x}^TB\\mathbf x : A\\mathbf x =\\mathbf y$ \\\n",
    "Our Lagragian for this problem is: $\\mathcal{L}(\\mathbf x,\\mathbf\\lambda) = \\frac12\\mathbf{x}^TB\\mathbf x + \\mathbf\\lambda^T\\left(A\\mathbf x - \\mathbf y\\right)$, and we know that $\\nabla_{\\mathbf{x}}\\mathcal{L}(\\mathbf x,\\mathbf\\lambda)=0$, and $\\nabla_{\\mathbf\\lambda}\\mathcal{L}(\\mathbf x,\\mathbf\\lambda)=0$ for a solution $\\mathbf{x}_{min}$. \\\n",
    "From our previous calculations we know that $\\nabla_{\\mathbf\\lambda}\\mathcal{L}(\\mathbf x,\\mathbf\\lambda)=0\\implies A\\mathbf x = \\mathbf y$, and calculating the other gradient we get: \\\n",
    "$\\nabla_{\\mathbf x}\\mathcal L(\\mathbf x,\\mathbf\\lambda)_j \n",
    "= \\frac{\\partial}{\\partial x_j}\\frac12\\sum_i\\mathbf{x}_i\\sum_k b_{ik}\\mathbf{x}_k + \\frac{\\partial}{\\partial x_j}\\left(\\sum_i\\mathbf\\lambda_i\\sum_k a_{ik}\\mathbf{x}_k -\\sum_i\\mathbf\\lambda_i \\mathbf{y}_i\\right) \n",
    "= \\frac12\\left(\\sum_i\\mathbf{x}_ib_{ij}+\\sum_kb{jk}\\mathbf{x}_k\\right) + \\sum_i\\mathbf\\lambda_i a_{ij}$ \\\n",
    "$\\implies \\nabla_{\\mathbf x}\\mathcal L(\\mathbf x,\\mathbf\\lambda) \n",
    "= \\frac12 B^T\\mathbf x+\\frac12 B\\mathbf x + A^T\\mathbf\\lambda$ \\\n",
    "$\\nabla_{\\mathbf x}\\mathcal L(\\mathbf x,\\mathbf\\lambda) = 0 \n",
    "\\implies \\frac12 B^T\\mathbf x+\\frac12 B\\mathbf x + A^T\\mathbf\\lambda = 0$ \\\n",
    "\\\n",
    "These equations give us this system: \\\n",
    "$\\begin{bmatrix}\\left(\\frac12 B^T+\\frac12 B\\right) & A^T\\\\ A & 0\\end{bmatrix}\\begin{bmatrix}\\mathbf x\\\\\\mathbf\\lambda\\end{bmatrix}=\\begin{bmatrix}0\\\\\\mathbf y\\end{bmatrix}$ \\\n",
    "\\\n",
    "For our system we know that: \\\n",
    "$B = \\begin{bmatrix}B_0&0\\\\0&B_1\\end{bmatrix}$, $B_n=I - W_nW_n^T$, $A = \\begin{bmatrix}I&I\\end{bmatrix}$, and $\\mathbf x = \\begin{bmatrix}\\mathbf{u}\\\\\\mathbf{v}\\end{bmatrix}$\\\n",
    "\\\n",
    "As $B^T = B$ we can simplify the general system first and then insert our $B$, $A$, and $\\mathbf x$, giving us: \\\n",
    "$\\begin{bmatrix}B & A^T\\\\ A & 0\\end{bmatrix}\\begin{bmatrix}\\mathbf x\\\\\\mathbf\\lambda\\end{bmatrix}=\\begin{bmatrix}0\\\\\\mathbf y\\end{bmatrix} = \\begin{bmatrix}I-W_0W_0^T&0&I\\\\ 0&I-W_1W_1^T&I\\\\I&I&0\\end{bmatrix}\\begin{bmatrix}\\mathbf u\\\\\\mathbf v\\\\\\mathbf\\lambda\\end{bmatrix}=\\begin{bmatrix}0\\\\0\\\\\\mathbf y\\end{bmatrix} $ \\\n",
    "Which is the system we were asked to derive.\n",
    "#### 2)\n",
    "We now want to simplify this and solve it as a simple system of the form $C\\mathbf u=\\mathbf d$ by eliminating $\\lambda$.\\\n",
    "Transforming this back into three equations, we get that $B_0\\mathbf{u}+I\\lambda=B_1\\mathbf{v}+I\\lambda=0$, and that $\\mathbf{u}+\\mathbf{v}=y$ (as we assumed from the beginning). Therefore we have: $B_0\\mathbf{u}=B_1\\left(\\mathbf{y}-\\mathbf{u}\\right)=B_1\\mathbf{y}-B_1\\mathbf{u}\\implies\\left(B_0+B_1\\right)\\mathbf{u}=B_1\\mathbf{y}\\implies C\\mathbf{u}=\\mathbf{d}$, with $C=\\left(B_0 + B_1\\right)$, and $\\mathbf d=B_1\\mathbf y$.\n",
    "So now we can solve our system separating the two channels by a projection onto our bases by solving the system $C\\mathbf u=\\mathbf d$, and then finding $\\mathbf v=\\mathbf y-\\mathbf u$.\n",
    "\n",
    "#### 3)\n",
    "Let us now solve the system $C\\mathbf u=\\mathbf d$\n",
    "\n",
    "$\\mathbf{y}^TC\\mathbf y = \\mathbf{y}^T\\left(B_0+B_1\\right)\\mathbf y = \\|B_0\\mathbf{y}\\|^2 + \\|B_1\\mathbf{y}\\|^2 > 0$ as o.w. $\\mathbf{y}$ would have to be in the kernel of both $B_1$ and $B_0$ which is impossible $\\forall\\enspace\\mathbf y\\neq 0$ as $\\mathbf{y}=\\mathbf{u}+\\mathbf{v}$ and $B_0$, $B_1$ are \"bases\" for $\\mathbf u$ and $\\mathbf{v}$ respectively.\n",
    "\n",
    "As C also is symmetric (sum of two symmetric matrices), $C$ is SPD and invertible, and therefore $C\\mathbf u = \\mathbf d$ only has one solution for $\\mathbf d\\neq 0$. If $\\mathbf d = 0$ and $\\mathbf y\\neq 0$, we must have that $B_1\\mathbf y = 0\\implies\\mathbf y = \\mathbf u$, which we may in the theoretical perfect case that $B_0\\perp B_1$ and if $\\mathbf y = \\mathbf u$. As we assume $\\mathbf y\\neq 0$, we before solving check if $\\|B_1\\mathbf{y}\\| = 0$ (the norm is smaller than some value, e.g. $10^{-6}$) and if this is true set $\\mathbf{u}_{min}=\\mathbf{y}$ and $\\mathbf{v}=0$. Adding this check we have a system with a unique solution giving us $\\mathbf x_{min}=\\mathbf u_{min} + \\mathbf v_{min}$.\n",
    "\n",
    "This is fast for our case as we can precalculate $B_0$ and $B_1$ and simply have to solve one equation for each $\\mathbf y$."
   ]
  },
  {
   "cell_type": "code",
   "execution_count": 23,
   "id": "560d26fb",
   "metadata": {},
   "outputs": [],
   "source": [
    "def source_separation(C, B1, y):\n",
    "    d = B1@y\n",
    "    if linalg.norm(y) < 10**(-6) or linalg.norm(d) < 10**(-6):\n",
    "        return y\n",
    "    else:\n",
    "        return linalg.solve(C,d)"
   ]
  },
  {
   "cell_type": "markdown",
   "id": "153d1a85",
   "metadata": {},
   "source": [
    "### d)\n",
    "Now we want to test our single channel source separation solver for our set of 100 mixed images using the handed out code. \\\n",
    "First we display two examples of our mixed images. \\\n",
    "Second we display the first basis vector for our basis of the set of images containing zeros together with the product $W_0^TW_0$, which should be an identity matrix of dimension $16\\times 16$ as our basis vectors are pairwise orthogonal and we have 16 of these basis vectors. \\\n",
    "Finally, we time how long our solution takes to separate all our 100 mixed images and display an example of a mixed image together with its separation, the vectors $\\mathbf u$ and $\\mathbf v$ (reshaped into matrices to render an image)."
   ]
  },
  {
   "cell_type": "code",
   "execution_count": 24,
   "id": "4e2ce153",
   "metadata": {},
   "outputs": [
    {
     "name": "stdout",
     "output_type": "stream",
     "text": [
      "(784, 100)\n",
      "(784, 16)\n",
      "(784, 16)\n"
     ]
    },
    {
     "data": {
      "image/png": "[encoded data removed]",
      "text/plain": [
       "<Figure size 864x576 with 4 Axes>"
      ]
     },
     "metadata": {
      "needs_background": "light"
     },
     "output_type": "display_data"
    }
   ],
   "source": [
    "# Loading our mixed images\n",
    "Mixes = np.load('C:/Users/maxka/Documents/NumMatProject1Data/Data/mixed.npy')\n",
    "print(Mixes.shape) # Should be (784,100)\n",
    "\n",
    "plt.figure(figsize=(12,8))\n",
    "plt.subplot(2,2,1)\n",
    "plt.imshow(Mixes[:,1].reshape((28,28)), cmap = 'gray')\n",
    "plt.axis('off') # Removes the x and y axis to plot only the image\n",
    "\n",
    "plt.subplot(2,2,2)\n",
    "plt.imshow(Mixes[:,32].reshape((28,28)), cmap = 'gray')\n",
    "plt.axis('off') # Removes the x and y axis to plot only the image\n",
    "\n",
    "# Loading our bases\n",
    "W0 = np.load('C:/Users/maxka/Documents/NumMatProject1Data/Data/W0.npy')\n",
    "W1 = np.load('C:/Users/maxka/Documents/NumMatProject1Data/Data/W1.npy')\n",
    "print(W0.shape) # Should be (784,16)\n",
    "print(W1.shape) # Should be (784,16)\n",
    "\n",
    "plt.subplot(2,2,3)\n",
    "plt.imshow(W0[:,0].reshape((28,28)), cmap = 'gray')\n",
    "plt.axis('off')\n",
    "plt.subplot(2,2,4)\n",
    "W0TW0 = np.dot(W0.T, W0)\n",
    "plt.imshow(W0TW0)\n",
    "plt.show()"
   ]
  },
  {
   "cell_type": "code",
   "execution_count": 25,
   "id": "9da6e79b",
   "metadata": {},
   "outputs": [
    {
     "name": "stdout",
     "output_type": "stream",
     "text": [
      "1.52 s ± 30.8 ms per loop (mean ± std. dev. of 5 runs, 1 loop each)\n"
     ]
    }
   ],
   "source": [
    "%%timeit -r 5\n",
    "B1 = np.identity(np.shape(W1)[0]) - W1@W1.T\n",
    "C = np.identity(np.shape(W0)[0]) - W0@W0.T + B1\n",
    "\n",
    "dim = np.shape(Mixes)\n",
    "u = np.zeros(dim)\n",
    "v = np.zeros(dim)\n",
    "\n",
    "for i in range(dim[1]):\n",
    "    y = Mixes[:,i]\n",
    "    u[:,i] = source_separation(C, B1, y)\n",
    "    v[:,i] = y - u[:,i]"
   ]
  },
  {
   "cell_type": "markdown",
   "id": "174bb371",
   "metadata": {},
   "source": [
    "We see that the single channel source separation is very fast as the images are much smaller than the matrix $A$ in task 1."
   ]
  },
  {
   "cell_type": "code",
   "execution_count": 26,
   "id": "4ecc056d",
   "metadata": {},
   "outputs": [
    {
     "data": {
      "image/png": "[encoded data removed]",
      "text/plain": [
       "<Figure size 1296x864 with 3 Axes>"
      ]
     },
     "metadata": {
      "needs_background": "light"
     },
     "output_type": "display_data"
    }
   ],
   "source": [
    "# We have to create these outside our timed cell to store the solution\n",
    "B1 = np.identity(np.shape(W1)[0]) - W1@W1.T\n",
    "C = np.identity(np.shape(W0)[0]) - W0@W0.T + B1\n",
    "\n",
    "dim = np.shape(Mixes)\n",
    "u = np.zeros(dim)\n",
    "v = np.zeros(dim)\n",
    "\n",
    "y = Mixes[:,69]\n",
    "u = source_separation(C, B1, y)\n",
    "v = y - u\n",
    "plt.figure(figsize=(18,12))\n",
    "plt.subplot(1,3,1)\n",
    "plt.imshow(y.reshape((28,28)), cmap = 'gray')\n",
    "plt.axis('off') # Removes the x and y axis to plot only the image\n",
    "\n",
    "plt.subplot(1,3,2)\n",
    "plt.imshow(u.reshape((28,28)), cmap = 'gray')\n",
    "plt.axis('off') # Removes the x and y axis to plot only the image\n",
    "\n",
    "plt.subplot(1,3,3)\n",
    "plt.imshow(v.reshape((28,28)), cmap = 'gray')\n",
    "plt.axis('off') # Removes the x and y axis to plot only the image\n",
    "plt.show()"
   ]
  },
  {
   "cell_type": "markdown",
   "id": "1c663719",
   "metadata": {},
   "source": [
    "We get a fairly clear separation of the 0 and 1 in the combined image, with some background noise of the mixed image remaining, which we possibly could minimize by scaling the values of the separated images such that the largest values are completely white and the smallest values are completely black. A simple implementation could be choosing a factor and multiplying/dividing all values greater/smaller than som midpoint by this value and then capping all values to the maximum/minimum for white/black, which I would identify as the largest weakness of the current implementation. \\\n",
    "\n",
    "The single channel source separation implemented here gives a satisfactory result with relatively cheap computation so it definitely works as intended. This works in this case as the zeros and ones are sufficiently different to create bases that are orthogonal enough to each other to get images of the clarity we just plotted. If the two channels were more similar we would struggle to separate them using this approach, but this is true in the general case. Overall we have a successful separation of our two sets of images."
   ]
  }
 ],
 "metadata": {
  "kernelspec": {
   "display_name": "Python 3 (ipykernel)",
   "language": "python",
   "name": "python3"
  },
  "language_info": {
   "codemirror_mode": {
    "name": "ipython",
    "version": 3
   },
   "file_extension": ".py",
   "mimetype": "text/x-python",
   "name": "python",
   "nbconvert_exporter": "python",
   "pygments_lexer": "ipython3",
   "version": "3.7.11"
  }
 },
 "nbformat": 4,
 "nbformat_minor": 5
}
